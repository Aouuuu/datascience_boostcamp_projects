{
 "cells":[
  {
   "cell_type":"code",
   "source":[
    "#Homework 1: IMDB web scraping\n",
    "library(rvest)\n",
    "library(tidyverse)\n",
    "library(stringr)\n",
    "\n",
    "#Top 50 Action TV shows sorted by popularity (desc)\n",
    "url <- \"https:\/\/www.imdb.com\/search\/title\/?title_type=tv_series,tv_miniseries&genres=action\"\n",
    "\n",
    "\n",
    "tv_show_name <- url %>%\n",
    "  read_html() %>%\n",
    "  html_nodes(\"h3.lister-item-header a\") %>%\n",
    "  html_text2()\n",
    "\n",
    "ratings <- url %>%\n",
    "  read_html() %>%\n",
    "  html_nodes(\"div.ratings-imdb-rating\") %>%\n",
    "  html_text2() %>%\n",
    "  as.numeric()\n",
    "\n",
    "votes <- url %>%\n",
    "  read_html() %>%\n",
    "  html_elements(\"p.sort-num_votes-visible\") %>%\n",
    "  html_text2()\n",
    "\n",
    "# Apply to data frame \n",
    "imdb_df <- data.frame(tv_show_name, ratings, votes)\n",
    "\n",
    "\n",
    "# Remove the column names from votes columns\n",
    "imdb_df$votes <- str_remove(imdb_df$votes, \"Votes: \")\n",
    "\n",
    "\n",
    "View(imdb_df)"
   ],
   "execution_count":9,
   "outputs":[
    {
     "data":{
      "text\/html":[
       "<table class=\"dataframe\">\n",
       "<caption>A data.frame: 50 × 3<\/caption>\n",
       "<thead>\n",
       "\t<tr><th scope=col>tv_show_name<\/th><th scope=col>ratings<\/th><th scope=col>votes<\/th><\/tr>\n",
       "\t<tr><th scope=col>&lt;chr&gt;<\/th><th scope=col>&lt;dbl&gt;<\/th><th scope=col>&lt;chr&gt;<\/th><\/tr>\n",
       "<\/thead>\n",
       "<tbody>\n",
       "\t<tr><td>The Last of Us                            <\/td><td>9.2<\/td><td>214,982  <\/td><\/tr>\n",
       "\t<tr><td>Star Trek: Picard                         <\/td><td>7.3<\/td><td>74,358   <\/td><\/tr>\n",
       "\t<tr><td>Game of Thrones                           <\/td><td>9.2<\/td><td>2,128,083<\/td><\/tr>\n",
       "\t<tr><td>The Rookie                                <\/td><td>8.0<\/td><td>43,658   <\/td><\/tr>\n",
       "\t<tr><td>The Flash                                 <\/td><td>7.6<\/td><td>350,041  <\/td><\/tr>\n",
       "\t<tr><td>The Boys                                  <\/td><td>8.7<\/td><td>528,309  <\/td><\/tr>\n",
       "\t<tr><td>The Legend of Vox Machina                 <\/td><td>8.4<\/td><td>31,542   <\/td><\/tr>\n",
       "\t<tr><td>The Mandalorian                           <\/td><td>8.7<\/td><td>499,412  <\/td><\/tr>\n",
       "\t<tr><td><span style=white-space:pre-wrap>Lockwood &amp; Co.                            <\/span><\/td><td>7.5<\/td><td><span style=white-space:pre-wrap>13,364   <\/span><\/td><\/tr>\n",
       "\t<tr><td>NCIS: Naval Criminal Investigative Service<\/td><td>7.8<\/td><td>150,943  <\/td><\/tr>\n",
       "\t<tr><td>House of the Dragon                       <\/td><td>8.5<\/td><td>310,974  <\/td><\/tr>\n",
       "\t<tr><td>Shingeki no Kyojin                        <\/td><td>9.0<\/td><td>383,376  <\/td><\/tr>\n",
       "\t<tr><td>Vikings                                   <\/td><td>8.5<\/td><td>542,425  <\/td><\/tr>\n",
       "\t<tr><td>Outer Banks                               <\/td><td>7.6<\/td><td>55,248   <\/td><\/tr>\n",
       "\t<tr><td>Andor                                     <\/td><td>8.4<\/td><td>121,351  <\/td><\/tr>\n",
       "\t<tr><td>Star Wars: The Bad Batch                  <\/td><td>7.8<\/td><td>38,778   <\/td><\/tr>\n",
       "\t<tr><td>Jack Ryan                                 <\/td><td>8.0<\/td><td>144,578  <\/td><\/tr>\n",
       "\t<tr><td>Extraordinary                             <\/td><td>7.9<\/td><td>6,025    <\/td><\/tr>\n",
       "\t<tr><td>Fauda                                     <\/td><td>8.3<\/td><td>31,302   <\/td><\/tr>\n",
       "\t<tr><td>Teen Wolf                                 <\/td><td>7.7<\/td><td>153,073  <\/td><\/tr>\n",
       "\t<tr><td>Vikings: Valhalla                         <\/td><td>7.3<\/td><td>48,385   <\/td><\/tr>\n",
       "\t<tr><td>The Last Kingdom                          <\/td><td>8.5<\/td><td>144,755  <\/td><\/tr>\n",
       "\t<tr><td>The Lord of the Rings: The Rings of Power <\/td><td>6.9<\/td><td>320,718  <\/td><\/tr>\n",
       "\t<tr><td>One Piece: Wan pîsu                       <\/td><td>8.9<\/td><td>131,154  <\/td><\/tr>\n",
       "\t<tr><td>National Treasure: Edge of History        <\/td><td>5.5<\/td><td>9,552    <\/td><\/tr>\n",
       "\t<tr><td>The Witcher                               <\/td><td>8.1<\/td><td>508,290  <\/td><\/tr>\n",
       "\t<tr><td>Star Trek: The Next Generation            <\/td><td>8.7<\/td><td>123,789  <\/td><\/tr>\n",
       "\t<tr><td>Reacher                                   <\/td><td>8.1<\/td><td>131,317  <\/td><\/tr>\n",
       "\t<tr><td>Alice in Borderland                       <\/td><td>7.7<\/td><td>77,668   <\/td><\/tr>\n",
       "\t<tr><td>Chicago Fire                              <\/td><td>8.0<\/td><td>58,951   <\/td><\/tr>\n",
       "\t<tr><td>Buffy the Vampire Slayer                  <\/td><td>8.3<\/td><td>149,884  <\/td><\/tr>\n",
       "\t<tr><td>9-1-1: Lone Star                          <\/td><td>7.1<\/td><td>16,187   <\/td><\/tr>\n",
       "\t<tr><td>FBI                                       <\/td><td>7.0<\/td><td>19,149   <\/td><\/tr>\n",
       "\t<tr><td>Kaleidoscope                              <\/td><td>6.7<\/td><td>33,942   <\/td><\/tr>\n",
       "\t<tr><td>The Recruit                               <\/td><td>7.4<\/td><td>30,361   <\/td><\/tr>\n",
       "\t<tr><td>Magnum P.I.                               <\/td><td>6.1<\/td><td>14,354   <\/td><\/tr>\n",
       "\t<tr><td>Chicago P.D.                              <\/td><td>8.1<\/td><td>39,899   <\/td><\/tr>\n",
       "\t<tr><td>Loki                                      <\/td><td>8.2<\/td><td>326,799  <\/td><\/tr>\n",
       "\t<tr><td>NCIS: Hawai'i                             <\/td><td>6.5<\/td><td>6,854    <\/td><\/tr>\n",
       "\t<tr><td>Willow                                    <\/td><td>5.6<\/td><td>28,636   <\/td><\/tr>\n",
       "\t<tr><td>S.W.A.T.                                  <\/td><td>7.1<\/td><td>25,272   <\/td><\/tr>\n",
       "\t<tr><td>Star Trek: Strange New Worlds             <\/td><td>8.2<\/td><td>33,594   <\/td><\/tr>\n",
       "\t<tr><td>Boku no hîrô akademia                     <\/td><td>8.4<\/td><td>66,028   <\/td><\/tr>\n",
       "\t<tr><td>Prison Break                              <\/td><td>8.3<\/td><td>543,646  <\/td><\/tr>\n",
       "\t<tr><td>Harley Quinn                              <\/td><td>8.5<\/td><td>31,919   <\/td><\/tr>\n",
       "\t<tr><td>Justified                                 <\/td><td>8.6<\/td><td>102,839  <\/td><\/tr>\n",
       "\t<tr><td>9-1-1                                     <\/td><td>7.8<\/td><td>35,976   <\/td><\/tr>\n",
       "\t<tr><td>Vinland Saga                              <\/td><td>8.8<\/td><td>43,983   <\/td><\/tr>\n",
       "\t<tr><td>Star Trek: Discovery                      <\/td><td>7.0<\/td><td>125,085  <\/td><\/tr>\n",
       "\t<tr><td>La casa de papel                          <\/td><td>8.2<\/td><td>486,424  <\/td><\/tr>\n",
       "<\/tbody>\n",
       "<\/table>\n"
      ]
     },
     "metadata":{
      
     },
     "output_type":"display_data"
    }
   ],
   "metadata":{
    "datalore":{
     "node_id":"vbAzZ8ulLH9yU3Tnfgzn5J",
     "type":"CODE",
     "hide_input_from_viewers":true,
     "hide_output_from_viewers":true
    }
   }
  },
  {
   "cell_type":"code",
   "source":[
    "# Homework 2: Best Seller Product ON Febury2023[Banana IT]\n",
    "\n",
    "# Load libraries\n",
    "library(rvest)\n",
    "library(tidyverse)\n",
    "library(stringr)\n",
    "\n",
    "# Load database\n",
    "url <- \"https:\/\/www.bnn.in.th\/th\/mkt\/best-seller\"\n",
    "page <- read_html(url)\n",
    "\n",
    "product_names <- page %>%\n",
    "  html_elements(\"div.product-name\") %>%\n",
    "  html_text2()\n",
    "\n",
    "\n",
    "product_prices <- page %>%\n",
    "  html_nodes(\"div.product-price\") %>%\n",
    "  html_text2()\n",
    "\n",
    "# Combine the data into a data frame\n",
    "best_seller_df <- data.frame(product_names, product_prices)\n",
    "\n",
    "# Print the resulting data frame\n",
    "View(best_seller_df)\n"
   ],
   "execution_count":1,
   "outputs":[
    {
     "name":"stderr",
     "text":[
      "Warning message in system(\"timedatectl\", intern = TRUE):\n",
      "“running command 'timedatectl' had status 1”\n",
      "Warning message:\n",
      "“Failed to locate timezone database”\n",
      "── \u001b[1mAttaching packages\u001b[22m ─────────────────────────────────────── tidyverse 1.3.1 ──\n",
      "\n",
      "\u001b[32m✔\u001b[39m \u001b[34mggplot2\u001b[39m 3.3.5     \u001b[32m✔\u001b[39m \u001b[34mpurrr  \u001b[39m 0.3.4\n",
      "\u001b[32m✔\u001b[39m \u001b[34mtibble \u001b[39m 3.1.5     \u001b[32m✔\u001b[39m \u001b[34mdplyr  \u001b[39m 1.0.7\n",
      "\u001b[32m✔\u001b[39m \u001b[34mtidyr  \u001b[39m 1.1.4     \u001b[32m✔\u001b[39m \u001b[34mstringr\u001b[39m 1.4.0\n",
      "\u001b[32m✔\u001b[39m \u001b[34mreadr  \u001b[39m 2.0.2     \u001b[32m✔\u001b[39m \u001b[34mforcats\u001b[39m 0.5.1\n",
      "\n",
      "── \u001b[1mConflicts\u001b[22m ────────────────────────────────────────── tidyverse_conflicts() ──\n",
      "\u001b[31m✖\u001b[39m \u001b[34mdplyr\u001b[39m::\u001b[32mfilter()\u001b[39m         masks \u001b[34mstats\u001b[39m::filter()\n",
      "\u001b[31m✖\u001b[39m \u001b[34mpurrr\u001b[39m::\u001b[32mflatten()\u001b[39m        masks \u001b[34mjsonlite\u001b[39m::flatten()\n",
      "\u001b[31m✖\u001b[39m \u001b[34mreadr\u001b[39m::\u001b[32mguess_encoding()\u001b[39m masks \u001b[34mrvest\u001b[39m::guess_encoding()\n",
      "\u001b[31m✖\u001b[39m \u001b[34mdplyr\u001b[39m::\u001b[32mlag()\u001b[39m            masks \u001b[34mstats\u001b[39m::lag()\n",
      "\n"
     ],
     "output_type":"stream"
    },
    {
     "data":{
      "text\/html":[
       "<table class=\"dataframe\">\n",
       "<caption>A data.frame: 24 × 2<\/caption>\n",
       "<thead>\n",
       "\t<tr><th scope=col>product_names<\/th><th scope=col>product_prices<\/th><\/tr>\n",
       "\t<tr><th scope=col>&lt;chr&gt;<\/th><th scope=col>&lt;chr&gt;<\/th><\/tr>\n",
       "<\/thead>\n",
       "<tbody>\n",
       "\t<tr><td>สมาร์ทโฟน Xiaomi Redmi 9A (2+32GB) Aurora Green                                <\/td><td>฿3,099 <\/td><\/tr>\n",
       "\t<tr><td>โน๊ตบุ๊ค Lenovo ideapad 3 15ABA7-82RN003CTA Arctic Grey (A)                      <\/td><td>฿20,990<\/td><\/tr>\n",
       "\t<tr><td>โน๊ตบุ๊ค Acer Aspire A515-45-R503_Silver (A)                                     <\/td><td>฿16,990<\/td><\/tr>\n",
       "\t<tr><td>Apple iPhone 14 Pro Max 256GB Deep Purple                                     <\/td><td>฿47,300<\/td><\/tr>\n",
       "\t<tr><td>ปากกาไอแพด Apple Pencil (2nd Generation)                                      <\/td><td>฿4,990 <\/td><\/tr>\n",
       "\t<tr><td>Apple iPad 9 (2021) Wi-Fi 64GB 10.2 inch Silver                               <\/td><td>฿12,900<\/td><\/tr>\n",
       "\t<tr><td>สมาร์ทโฟน OPPO A16k Blue                                                       <\/td><td>฿4,249 <\/td><\/tr>\n",
       "\t<tr><td>Apple iPhone 13 128GB Midnight                                                <\/td><td>฿28,500<\/td><\/tr>\n",
       "\t<tr><td>แท็บเล็ต Lenovo Tab M8 TB-8505X-ZA5H0114TH                                      <\/td><td>฿3,990 <\/td><\/tr>\n",
       "\t<tr><td>หูฟัง Blue Box BB001 Light Gray                                                 <\/td><td>฿890   <\/td><\/tr>\n",
       "\t<tr><td>สมาร์ทโฟน vivo V23e (8+128GB) Moonlight Shadow (5G)                            <\/td><td>฿9,999 <\/td><\/tr>\n",
       "\t<tr><td>โน๊ตบุ๊ค Acer Nitro AN515-46-R1QY_Black (A)                                      <\/td><td>฿39,990<\/td><\/tr>\n",
       "\t<tr><td>สมาร์ทโฟน Samsung Galaxy A53 (8+128GB) Awesome Black (5G)                      <\/td><td>฿12,999<\/td><\/tr>\n",
       "\t<tr><td>ลำโพงบลูทูธ JBL 2.0 Go 2 Black                                                  <\/td><td>฿790   <\/td><\/tr>\n",
       "\t<tr><td>แท็บเล็ต Microsoft Surface Pro7+ i3\/8\/128 Platinum (TFM-00011)                  <\/td><td>฿29,900<\/td><\/tr>\n",
       "\t<tr><td>สมาร์ทโฟน OPPO Reno8 Z Dawnlight Gold (5G)                                     <\/td><td>฿12,990<\/td><\/tr>\n",
       "\t<tr><td>หูฟังไร้สาย TECHPRO S1 Black                                                     <\/td><td>฿350   <\/td><\/tr>\n",
       "\t<tr><td>Apple MacBook Air 13: M1 chip 8C CPU\/7C GPU\/8GB\/256GB - Gold-2020             <\/td><td>฿28,200<\/td><\/tr>\n",
       "\t<tr><td>หูฟังอินเอียร์ JBL T110 Black                                                      <\/td><td>฿490   <\/td><\/tr>\n",
       "\t<tr><td>โน๊ตบุ๊ค Asus ROG Strix SCAR 15 G543ZX-HF058W Off Black                          <\/td><td>฿99,990<\/td><\/tr>\n",
       "\t<tr><td>แท็บเล็ต Microsoft Surface Pro 8 i5\/8\/256 Graphite (8PQ-00032)                  <\/td><td>฿39,990<\/td><\/tr>\n",
       "\t<tr><td>โน๊ตบุ๊ค Asus TUF Gaming A15 FA506ICB-HN103W Black (A)                           <\/td><td>฿27,990<\/td><\/tr>\n",
       "\t<tr><td>Apple AirPods (2nd generation)                                                <\/td><td>฿4,150 <\/td><\/tr>\n",
       "\t<tr><td>Apple Watch Series 8 GPS 45mm Midnight Aluminium Case with Midnight Sport Band<\/td><td>฿16,900<\/td><\/tr>\n",
       "<\/tbody>\n",
       "<\/table>\n"
      ]
     },
     "metadata":{
      
     },
     "output_type":"display_data"
    }
   ],
   "metadata":{
    "datalore":{
     "node_id":"rAZ1uVIIh0uiIIgeeDrnM4",
     "type":"CODE",
     "hide_input_from_viewers":true,
     "hide_output_from_viewers":true
    }
   }
  }
 ],
 "metadata":{
  "kernelspec":{
   "display_name":"R",
   "language":"r",
   "name":"ir"
  },
  "datalore":{
   "computation_mode":"JUPYTER",
   "package_manager":"conda",
   "base_environment":"minimal",
   "packages":[
    
   ],
   "report_row_ids":[
    
   ],
   "version":3
  }
 },
 "nbformat":4,
 "nbformat_minor":4
}