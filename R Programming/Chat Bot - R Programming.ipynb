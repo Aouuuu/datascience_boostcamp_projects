{
 "cells":[
  {
   "cell_type":"code",
   "source":[
    "Airbot <- function() {\n",
    "  # Introduction\n",
    "  print(\"----------------\")\n",
    "  print(\"## Instruction: This AirBot is designed to answer a simple question for a customer that wants to book a flight\")\n",
    "  print(\"## Key: Type 'exit' if you wish to terminate the bot or contact the call center\")\n",
    "  print(\"----------------\")\n",
    "  print(\"Hello, I'm AirBot. Here are three functions that I can assist you with: 'book flight', 'cancel flight', 'upgrade flight'\")\n",
    "  \n",
    "  while (TRUE) {\n",
    "    # Ask user for input\n",
    "    request <- readline(\"How can I assist you with your booking today? ('book flight', 'cancel flight', 'upgrade flight') | Reply: \")\n",
    "    \n",
    "    if (request == \"exit\") {\n",
    "      # If user types 'exit', terminate the bot\n",
    "      print(\"Thank you for your time. Hope to see you again!\")\n",
    "      break\n",
    "    } else if (request == \"book flight\") {\n",
    "      # If user requests to book a flight, prompt for flight details\n",
    "      origin_country <- readline(\"What is your origin country? (Countries available: THA, SIN, JPN) | Reply: \") \n",
    "      if (origin_country %in% c(\"THA\", \"SIN\", \"JPN\")) {\n",
    "        print(paste(\"Confirm origin: \", origin_country))\n",
    "        destination_country <- readline(\"What is your destination country? (Countries available: THA, SIN, JPN) | Reply: \")\n",
    "        if (destination_country %in% c(\"THA\", \"SIN\", \"JPN\")) {\n",
    "          print(paste(\"Confirm destination: \", destination_country))\n",
    "          depart_date <- readline(\"What is your booking depart date? (YYYY-MM-DD) | Reply: \")\n",
    "          if (grepl(\"\\\\d{4}-\\\\d{2}-\\\\d{2}\", depart_date)) {\n",
    "            arrive_date <- readline(\"What is your booking arrive date? (YYYY-MM-DD) | Reply: \")\n",
    "            if (grepl(\"\\\\d{4}-\\\\d{2}-\\\\d{2}\", arrive_date)) {\n",
    "              # If flight details are valid, book the flight and terminate the bot\n",
    "              print(paste(\"I've booked a flight from: \", origin_country, \"to\", destination_country, \"on\", depart_date,\"to\",arrive_date))\n",
    "              print(\"Have a nice trip!\")\n",
    "              break\n",
    "            } else {\n",
    "               # If arrive date is invalid, prompt user to try again\n",
    "              print(\"Invalid date format. Please try again.\")\n",
    "            }\n",
    "          } else {\n",
    "             # If depart date is invalid, prompt user to try again\n",
    "            print(\"Invalid date format. Please try again.\")\n",
    "          }\n",
    "        } else {\n",
    "          # If destination country is invalid, prompt user to try again\n",
    "          print(\"Invalid destination country. Please try again.\")\n",
    "        }\n",
    "      } else {\n",
    "        # If origin country is invalid, prompt user to try again\n",
    "        print(\"Invalid origin country. Please try again.\")\n",
    "      }\n",
    "    } else if (request == \"cancel flight\") {\n",
    "      # If user requests to cancel a flight, prompt for booking number\n",
    "      booking_number <- readline(\"What is your booking number? (Example: ABC123) | Reply: \")\n",
    "      if (grepl(\"[A-Za-z]{3}\\\\d{3}\", booking_number)) {\n",
    "        # If booking number is valid, cancel the flight and terminate the bot \n",
    "        print(paste(\"Sorry to hear that, I've cancelled your booking number: \", booking_number))\n",
    "        print(\"Thank you for your time. Hope to see you again!\")\n",
    "        break\n",
    "      } else {\n",
    "        # If booking number is invalid, prompt user to try again\n",
    "        print(\"Invalid booking format. Please try again.\")\n",
    "      }\n",
    "    } else if (request == \"upgrade flight\") {\n",
    "      # If user requests to upgrade a flight, prompt package details\n",
    "      current_package <- readline(\"What is your current package class? (Economy, Business, First) | Reply: \")\n",
    "      print(paste(\"Current package class: \", current_package))\n",
    "      upgrade_package <- readline(\"What class do you want to upgrade to? (Economy, Business, First) | Reply: \")\n",
    "      if (upgrade_package %in% c(\"Economy\", \"Business\", \"First\")) {\n",
    "        # If package name is valid, upgrade the flight and terminate the bot\n",
    "        print(paste(\"I've updated your package class from\", current_package, \"to\", upgrade_package))\n",
    "        print(\"Have a nice trip!\")\n",
    "        break\n",
    "      } else {\n",
    "        # If package name is invalid, prompt user to try again\n",
    "        print(\"Invalid package class. Please try again.\")\n",
    "      }\n",
    "    } else {\n",
    "      # If user input invalid request, prompt user to try again\n",
    "      print(\"Invalid request. Please try again.\")\n",
    "    }\n",
    "  }\n",
    "}\n",
    "\n",
    "Airbot()"
   ],
   "execution_count":1,
   "outputs":[
    {
     "name":"stdout",
     "text":[
      "How can I assist you with your booking today? ('book flight', 'cancel flight', 'upgrade flight') | Reply:  upgrade flight\n",
      "What is your current package class? (Economy, Business, First) | Reply:  Business\n",
      "What class do you want to upgrade to? (Economy, Business, First) | Reply:  First\n",
      "[1] \"----------------\"\n",
      "[1] \"## Instruction: This AirBot is designed to answer a simple question for a customer that wants to book a flight\"\n",
      "[1] \"## Key: Type 'exit' if you wish to terminate the bot or contact the call center\"\n",
      "[1] \"----------------\"\n",
      "[1] \"Hello, I'm AirBot. Here are three functions that I can assist you with: 'book flight', 'cancel flight', 'upgrade flight'\"\n",
      "[1] \"Current package class:  Business\"\n",
      "[1] \"I've updated your package class from Business to First\"\n",
      "[1] \"Have a nice trip!\"\n"
     ],
     "output_type":"stream"
    }
   ],
   "metadata":{
    "datalore":{
     "node_id":"g0gD1FcPNRiYADSbVSjjPS",
     "type":"CODE",
     "hide_input_from_viewers":true,
     "hide_output_from_viewers":true
    }
   }
  }
 ],
 "metadata":{
  "kernelspec":{
   "display_name":"R",
   "language":"r",
   "name":"ir"
  },
  "datalore":{
   "computation_mode":"JUPYTER",
   "package_manager":"conda",
   "base_environment":"minimal",
   "packages":[
    
   ],
   "report_row_ids":[
    
   ],
   "version":3
  }
 },
 "nbformat":4,
 "nbformat_minor":4
}
