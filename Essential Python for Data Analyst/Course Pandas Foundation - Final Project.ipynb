{
 "cells":[
  {
   "cell_type":"markdown",
   "source":[
    "# Project"
   ],
   "attachments":{
    
   },
   "metadata":{
    "datalore":{
     "node_id":"Project",
     "type":"MD",
     "hide_input_from_viewers":false,
     "hide_output_from_viewers":false,
     "sheet_delimiter":true
    }
   }
  },
  {
   "cell_type":"markdown",
   "source":[
    "# Final Project - Analyzing Sales Data\n",
    "\n",
    "**Date**: 27 June 2023\n",
    "\n",
    "**Author**: Sarach Sriklab \n",
    "\n",
    "**Course**: `Pandas Foundation`"
   ],
   "attachments":{
    
   },
   "metadata":{
    "datalore":{
     "node_id":"zPi5Vq2yv4ChqqbdvXIY8C",
     "type":"MD",
     "hide_input_from_viewers":false,
     "hide_output_from_viewers":false,
     "report_properties":{
      "rowId":"i8HyGdI4q2fGH442iTpCqE"
     }
    }
   }
  },
  {
   "cell_type":"code",
   "source":[
    "# import data\n",
    "import pandas as pd\n",
    "df = pd.read_csv(\"sample-store.csv\")"
   ],
   "execution_count":15,
   "outputs":[
    
   ],
   "metadata":{
    "datalore":{
     "node_id":"VpALqKijDrViSxO1LFjNLg",
     "type":"CODE",
     "hide_input_from_viewers":false,
     "hide_output_from_viewers":false,
     "report_properties":{
      "rowId":"35j7AoKepPNL3NHFoDgPTe"
     }
    }
   }
  },
  {
   "cell_type":"code",
   "source":[
    "# preview top 5 rows\n",
    "df.head()"
   ],
   "execution_count":16,
   "outputs":[
    {
     "data":{
      "text\/html":[
       "<div>\n",
       "<style scoped>\n",
       "    .dataframe tbody tr th:only-of-type {\n",
       "        vertical-align: middle;\n",
       "    }\n",
       "\n",
       "    .dataframe tbody tr th {\n",
       "        vertical-align: top;\n",
       "    }\n",
       "\n",
       "    .dataframe thead th {\n",
       "        text-align: right;\n",
       "    }\n",
       "<\/style>\n",
       "<table border=\"1\" class=\"dataframe\">\n",
       "  <thead>\n",
       "    <tr style=\"text-align: right;\">\n",
       "      <th><\/th>\n",
       "      <th>Row ID<\/th>\n",
       "      <th>Order ID<\/th>\n",
       "      <th>Order Date<\/th>\n",
       "      <th>Ship Date<\/th>\n",
       "      <th>Ship Mode<\/th>\n",
       "      <th>Customer ID<\/th>\n",
       "      <th>Customer Name<\/th>\n",
       "      <th>Segment<\/th>\n",
       "      <th>Country\/Region<\/th>\n",
       "      <th>City<\/th>\n",
       "      <th>...<\/th>\n",
       "      <th>Postal Code<\/th>\n",
       "      <th>Region<\/th>\n",
       "      <th>Product ID<\/th>\n",
       "      <th>Category<\/th>\n",
       "      <th>Sub-Category<\/th>\n",
       "      <th>Product Name<\/th>\n",
       "      <th>Sales<\/th>\n",
       "      <th>Quantity<\/th>\n",
       "      <th>Discount<\/th>\n",
       "      <th>Profit<\/th>\n",
       "    <\/tr>\n",
       "  <\/thead>\n",
       "  <tbody>\n",
       "    <tr>\n",
       "      <th>0<\/th>\n",
       "      <td>1<\/td>\n",
       "      <td>CA-2019-152156<\/td>\n",
       "      <td>11\/8\/2019<\/td>\n",
       "      <td>11\/11\/2019<\/td>\n",
       "      <td>Second Class<\/td>\n",
       "      <td>CG-12520<\/td>\n",
       "      <td>Claire Gute<\/td>\n",
       "      <td>Consumer<\/td>\n",
       "      <td>United States<\/td>\n",
       "      <td>Henderson<\/td>\n",
       "      <td>...<\/td>\n",
       "      <td>42420.0<\/td>\n",
       "      <td>South<\/td>\n",
       "      <td>FUR-BO-10001798<\/td>\n",
       "      <td>Furniture<\/td>\n",
       "      <td>Bookcases<\/td>\n",
       "      <td>Bush Somerset Collection Bookcase<\/td>\n",
       "      <td>261.9600<\/td>\n",
       "      <td>2<\/td>\n",
       "      <td>0.00<\/td>\n",
       "      <td>41.9136<\/td>\n",
       "    <\/tr>\n",
       "    <tr>\n",
       "      <th>1<\/th>\n",
       "      <td>2<\/td>\n",
       "      <td>CA-2019-152156<\/td>\n",
       "      <td>11\/8\/2019<\/td>\n",
       "      <td>11\/11\/2019<\/td>\n",
       "      <td>Second Class<\/td>\n",
       "      <td>CG-12520<\/td>\n",
       "      <td>Claire Gute<\/td>\n",
       "      <td>Consumer<\/td>\n",
       "      <td>United States<\/td>\n",
       "      <td>Henderson<\/td>\n",
       "      <td>...<\/td>\n",
       "      <td>42420.0<\/td>\n",
       "      <td>South<\/td>\n",
       "      <td>FUR-CH-10000454<\/td>\n",
       "      <td>Furniture<\/td>\n",
       "      <td>Chairs<\/td>\n",
       "      <td>Hon Deluxe Fabric Upholstered Stacking Chairs,...<\/td>\n",
       "      <td>731.9400<\/td>\n",
       "      <td>3<\/td>\n",
       "      <td>0.00<\/td>\n",
       "      <td>219.5820<\/td>\n",
       "    <\/tr>\n",
       "    <tr>\n",
       "      <th>2<\/th>\n",
       "      <td>3<\/td>\n",
       "      <td>CA-2019-138688<\/td>\n",
       "      <td>6\/12\/2019<\/td>\n",
       "      <td>6\/16\/2019<\/td>\n",
       "      <td>Second Class<\/td>\n",
       "      <td>DV-13045<\/td>\n",
       "      <td>Darrin Van Huff<\/td>\n",
       "      <td>Corporate<\/td>\n",
       "      <td>United States<\/td>\n",
       "      <td>Los Angeles<\/td>\n",
       "      <td>...<\/td>\n",
       "      <td>90036.0<\/td>\n",
       "      <td>West<\/td>\n",
       "      <td>OFF-LA-10000240<\/td>\n",
       "      <td>Office Supplies<\/td>\n",
       "      <td>Labels<\/td>\n",
       "      <td>Self-Adhesive Address Labels for Typewriters b...<\/td>\n",
       "      <td>14.6200<\/td>\n",
       "      <td>2<\/td>\n",
       "      <td>0.00<\/td>\n",
       "      <td>6.8714<\/td>\n",
       "    <\/tr>\n",
       "    <tr>\n",
       "      <th>3<\/th>\n",
       "      <td>4<\/td>\n",
       "      <td>US-2018-108966<\/td>\n",
       "      <td>10\/11\/2018<\/td>\n",
       "      <td>10\/18\/2018<\/td>\n",
       "      <td>Standard Class<\/td>\n",
       "      <td>SO-20335<\/td>\n",
       "      <td>Sean O'Donnell<\/td>\n",
       "      <td>Consumer<\/td>\n",
       "      <td>United States<\/td>\n",
       "      <td>Fort Lauderdale<\/td>\n",
       "      <td>...<\/td>\n",
       "      <td>33311.0<\/td>\n",
       "      <td>South<\/td>\n",
       "      <td>FUR-TA-10000577<\/td>\n",
       "      <td>Furniture<\/td>\n",
       "      <td>Tables<\/td>\n",
       "      <td>Bretford CR4500 Series Slim Rectangular Table<\/td>\n",
       "      <td>957.5775<\/td>\n",
       "      <td>5<\/td>\n",
       "      <td>0.45<\/td>\n",
       "      <td>-383.0310<\/td>\n",
       "    <\/tr>\n",
       "    <tr>\n",
       "      <th>4<\/th>\n",
       "      <td>5<\/td>\n",
       "      <td>US-2018-108966<\/td>\n",
       "      <td>10\/11\/2018<\/td>\n",
       "      <td>10\/18\/2018<\/td>\n",
       "      <td>Standard Class<\/td>\n",
       "      <td>SO-20335<\/td>\n",
       "      <td>Sean O'Donnell<\/td>\n",
       "      <td>Consumer<\/td>\n",
       "      <td>United States<\/td>\n",
       "      <td>Fort Lauderdale<\/td>\n",
       "      <td>...<\/td>\n",
       "      <td>33311.0<\/td>\n",
       "      <td>South<\/td>\n",
       "      <td>OFF-ST-10000760<\/td>\n",
       "      <td>Office Supplies<\/td>\n",
       "      <td>Storage<\/td>\n",
       "      <td>Eldon Fold 'N Roll Cart System<\/td>\n",
       "      <td>22.3680<\/td>\n",
       "      <td>2<\/td>\n",
       "      <td>0.20<\/td>\n",
       "      <td>2.5164<\/td>\n",
       "    <\/tr>\n",
       "  <\/tbody>\n",
       "<\/table>\n",
       "<p>5 rows × 21 columns<\/p>\n",
       "<\/div>"
      ]
     },
     "metadata":{
      
     },
     "output_type":"display_data"
    }
   ],
   "metadata":{
    "datalore":{
     "node_id":"YxRtXO5eQp40cxtQKeBrNY",
     "type":"CODE",
     "hide_input_from_viewers":false,
     "hide_output_from_viewers":false,
     "report_properties":{
      "rowId":"yyEUOUI42p76ipMKDl33Hx"
     }
    }
   }
  },
  {
   "cell_type":"code",
   "source":[
    "# shape of dataframe\n",
    "df.shape"
   ],
   "execution_count":17,
   "outputs":[
    {
     "data":{
      "text\/plain":[
       "(9994, 21)"
      ]
     },
     "metadata":{
      
     },
     "output_type":"display_data"
    }
   ],
   "metadata":{
    "datalore":{
     "node_id":"H1L8IwaBwtcF0DwsPosz9Z",
     "type":"CODE",
     "hide_input_from_viewers":false,
     "hide_output_from_viewers":false,
     "report_properties":{
      "rowId":"TUDMakT9uKan7nUTWfJrtX"
     }
    }
   }
  },
  {
   "cell_type":"code",
   "source":[
    "# see data frame information using .info()\n",
    "df.info()"
   ],
   "execution_count":18,
   "outputs":[
    {
     "name":"stdout",
     "text":[
      "<class 'pandas.core.frame.DataFrame'>\n",
      "RangeIndex: 9994 entries, 0 to 9993\n",
      "Data columns (total 21 columns):\n",
      " #   Column          Non-Null Count  Dtype  \n",
      "---  ------          --------------  -----  \n",
      " 0   Row ID          9994 non-null   int64  \n",
      " 1   Order ID        9994 non-null   object \n",
      " 2   Order Date      9994 non-null   object \n",
      " 3   Ship Date       9994 non-null   object \n",
      " 4   Ship Mode       9994 non-null   object \n",
      " 5   Customer ID     9994 non-null   object \n",
      " 6   Customer Name   9994 non-null   object \n",
      " 7   Segment         9994 non-null   object \n",
      " 8   Country\/Region  9994 non-null   object \n",
      " 9   City            9994 non-null   object \n",
      " 10  State           9994 non-null   object \n",
      " 11  Postal Code     9983 non-null   float64\n",
      " 12  Region          9994 non-null   object \n",
      " 13  Product ID      9994 non-null   object \n",
      " 14  Category        9994 non-null   object \n",
      " 15  Sub-Category    9994 non-null   object \n",
      " 16  Product Name    9994 non-null   object \n",
      " 17  Sales           9994 non-null   float64\n",
      " 18  Quantity        9994 non-null   int64  \n",
      " 19  Discount        9994 non-null   float64\n",
      " 20  Profit          9994 non-null   float64\n",
      "dtypes: float64(4), int64(2), object(15)\n",
      "memory usage: 1.6+ MB\n"
     ],
     "output_type":"stream"
    }
   ],
   "metadata":{
    "datalore":{
     "node_id":"iYULU1fkemFHqhSScow7Vc",
     "type":"CODE",
     "hide_input_from_viewers":false,
     "hide_output_from_viewers":false,
     "report_properties":{
      "rowId":"v1FeaqIwCHPp48rsRcejHb"
     }
    }
   }
  },
  {
   "cell_type":"markdown",
   "source":[
    "We can use `pd.to_datetime()` function to convert columns 'Order Date' and 'Ship Date' to datetime."
   ],
   "attachments":{
    
   },
   "metadata":{
    "datalore":{
     "node_id":"kIGFD6cAyNBYsqfirWj3Jx",
     "type":"MD",
     "hide_input_from_viewers":false,
     "hide_output_from_viewers":false,
     "report_properties":{
      "rowId":"yI2NEPvBLjFT0YixhYCN5T"
     }
    }
   }
  },
  {
   "cell_type":"code",
   "source":[
    "# example of pd.to_datetime() function\n",
    "pd.to_datetime(df['Order Date'].head(), format='%m\/%d\/%Y')"
   ],
   "execution_count":7,
   "outputs":[
    {
     "data":{
      "text\/html":[
       "<pre>0   2019-11-08\n",
       "1   2019-11-08\n",
       "2   2019-06-12\n",
       "3   2018-10-11\n",
       "4   2018-10-11\n",
       "Name: Order Date, dtype: datetime64[ns]<\/pre>"
      ]
     },
     "metadata":{
      
     },
     "output_type":"display_data"
    }
   ],
   "metadata":{
    "datalore":{
     "node_id":"fB2SQikoTgC89kE37Sq85Y",
     "type":"CODE",
     "hide_input_from_viewers":false,
     "hide_output_from_viewers":false,
     "report_properties":{
      "rowId":"Fu7RnrWl2YP0ObXRqm3Nlv"
     }
    }
   }
  },
  {
   "cell_type":"code",
   "source":[
    "# TODO - convert order date and ship date to datetime in the original dataframe\n",
    "df['Order Date'] = pd.to_datetime(df['Order Date'], format='%m\/%d\/%Y')\n",
    "df['Ship Date'] = pd.to_datetime(df['Ship Date'], format='%m\/%d\/%Y')"
   ],
   "execution_count":23,
   "outputs":[
    
   ],
   "metadata":{
    "datalore":{
     "node_id":"OsWDJcQV8ojmNv8NdFKHxe",
     "type":"CODE",
     "hide_input_from_viewers":false,
     "hide_output_from_viewers":false,
     "report_properties":{
      "rowId":"hQiptI4EwJditvhSbDKWtR"
     }
    }
   }
  },
  {
   "cell_type":"code",
   "source":[
    "# TODO - count nan in postal code column\n",
    "nan_count = df['Postal Code'].isna().sum()\n",
    "\n",
    "print(\"Number of NaN values in 'postal code' column:\", nan_count)"
   ],
   "execution_count":25,
   "outputs":[
    {
     "name":"stdout",
     "text":[
      "Number of NaN values in 'postal code' column: 11\n"
     ],
     "output_type":"stream"
    }
   ],
   "metadata":{
    "datalore":{
     "node_id":"FZUYgCIJ47B8riC6024tIO",
     "type":"CODE",
     "hide_input_from_viewers":false,
     "hide_output_from_viewers":false,
     "report_properties":{
      "rowId":"boPqYWtCWMZx6LhuG7AbZl"
     }
    }
   }
  },
  {
   "cell_type":"code",
   "source":[
    "# TODO - filter rows with missing values\n",
    "df_filtered = df.dropna()\n",
    "\n",
    "# Alternatively, if you want to filter rows with missing values specifically in the 'postal code' column:\n",
    "# df_filtered = df.dropna(subset=['postal code'])\n",
    "\n",
    "print(\"Filtered DataFrame:\")\n",
    "print(df_filtered)"
   ],
   "execution_count":27,
   "outputs":[
    {
     "name":"stdout",
     "text":[
      "Filtered DataFrame:\n",
      "      Row ID        Order ID Order Date  Ship Date       Ship Mode  \\\n",
      "0          1  CA-2019-152156 2019-11-08 2019-11-11    Second Class   \n",
      "1          2  CA-2019-152156 2019-11-08 2019-11-11    Second Class   \n",
      "2          3  CA-2019-138688 2019-06-12 2019-06-16    Second Class   \n",
      "3          4  US-2018-108966 2018-10-11 2018-10-18  Standard Class   \n",
      "4          5  US-2018-108966 2018-10-11 2018-10-18  Standard Class   \n",
      "...      ...             ...        ...        ...             ...   \n",
      "9989    9990  CA-2017-110422 2017-01-21 2017-01-23    Second Class   \n",
      "9990    9991  CA-2020-121258 2020-02-26 2020-03-03  Standard Class   \n",
      "9991    9992  CA-2020-121258 2020-02-26 2020-03-03  Standard Class   \n",
      "9992    9993  CA-2020-121258 2020-02-26 2020-03-03  Standard Class   \n",
      "9993    9994  CA-2020-119914 2020-05-04 2020-05-09    Second Class   \n",
      "\n",
      "     Customer ID     Customer Name    Segment Country\/Region             City  \\\n",
      "0       CG-12520       Claire Gute   Consumer  United States        Henderson   \n",
      "1       CG-12520       Claire Gute   Consumer  United States        Henderson   \n",
      "2       DV-13045   Darrin Van Huff  Corporate  United States      Los Angeles   \n",
      "3       SO-20335    Sean O'Donnell   Consumer  United States  Fort Lauderdale   \n",
      "4       SO-20335    Sean O'Donnell   Consumer  United States  Fort Lauderdale   \n",
      "...          ...               ...        ...            ...              ...   \n",
      "9989    TB-21400  Tom Boeckenhauer   Consumer  United States            Miami   \n",
      "9990    DB-13060       Dave Brooks   Consumer  United States       Costa Mesa   \n",
      "9991    DB-13060       Dave Brooks   Consumer  United States       Costa Mesa   \n",
      "9992    DB-13060       Dave Brooks   Consumer  United States       Costa Mesa   \n",
      "9993    CC-12220      Chris Cortes   Consumer  United States      Westminster   \n",
      "\n",
      "      ... Postal Code  Region       Product ID         Category Sub-Category  \\\n",
      "0     ...     42420.0   South  FUR-BO-10001798        Furniture    Bookcases   \n",
      "1     ...     42420.0   South  FUR-CH-10000454        Furniture       Chairs   \n",
      "2     ...     90036.0    West  OFF-LA-10000240  Office Supplies       Labels   \n",
      "3     ...     33311.0   South  FUR-TA-10000577        Furniture       Tables   \n",
      "4     ...     33311.0   South  OFF-ST-10000760  Office Supplies      Storage   \n",
      "...   ...         ...     ...              ...              ...          ...   \n",
      "9989  ...     33180.0   South  FUR-FU-10001889        Furniture  Furnishings   \n",
      "9990  ...     92627.0    West  FUR-FU-10000747        Furniture  Furnishings   \n",
      "9991  ...     92627.0    West  TEC-PH-10003645       Technology       Phones   \n",
      "9992  ...     92627.0    West  OFF-PA-10004041  Office Supplies        Paper   \n",
      "9993  ...     92683.0    West  OFF-AP-10002684  Office Supplies   Appliances   \n",
      "\n",
      "                                           Product Name     Sales  Quantity  \\\n",
      "0                     Bush Somerset Collection Bookcase  261.9600         2   \n",
      "1     Hon Deluxe Fabric Upholstered Stacking Chairs,...  731.9400         3   \n",
      "2     Self-Adhesive Address Labels for Typewriters b...   14.6200         2   \n",
      "3         Bretford CR4500 Series Slim Rectangular Table  957.5775         5   \n",
      "4                        Eldon Fold 'N Roll Cart System   22.3680         2   \n",
      "...                                                 ...       ...       ...   \n",
      "9989                             Ultra Door Pull Handle   25.2480         3   \n",
      "9990  Tenex B1-RE Series Chair Mats for Low Pile Car...   91.9600         2   \n",
      "9991                              Aastra 57i VoIP phone  258.5760         2   \n",
      "9992  It's Hot Message Books with Stickers, 2 3\/4\" x 5\"   29.6000         4   \n",
      "9993  Acco 7-Outlet Masterpiece Power Center, Wihtou...  243.1600         2   \n",
      "\n",
      "      Discount    Profit  \n",
      "0         0.00   41.9136  \n",
      "1         0.00  219.5820  \n",
      "2         0.00    6.8714  \n",
      "3         0.45 -383.0310  \n",
      "4         0.20    2.5164  \n",
      "...        ...       ...  \n",
      "9989      0.20    4.1028  \n",
      "9990      0.00   15.6332  \n",
      "9991      0.20   19.3932  \n",
      "9992      0.00   13.3200  \n",
      "9993      0.00   72.9480  \n",
      "\n",
      "[9983 rows x 21 columns]\n"
     ],
     "output_type":"stream"
    }
   ],
   "metadata":{
    "datalore":{
     "node_id":"6yCNKjzYtwyi86XCX3pEtg",
     "type":"CODE",
     "hide_input_from_viewers":false,
     "hide_output_from_viewers":false,
     "report_properties":{
      "rowId":"O2K0v43Pr8JTOKN5mLjCGD"
     }
    }
   }
  },
  {
   "cell_type":"code",
   "source":[
    "# TODO - Explore this dataset on your owns, ask your own questions\n",
    "\n",
    "# Which product category have the highest Sales?\n",
    "import pandas as pd\n",
    "import matplotlib.pyplot as plt\n",
    "\n",
    "# Calculate the total sales for each product category\n",
    "category_sales = df.groupby('Category')['Sales'].sum()\n",
    "\n",
    "# Create a column chart\n",
    "category_sales.plot(kind='bar')\n",
    "\n",
    "# Set the chart title and axis labels\n",
    "plt.title('Total Sales by Product Category')\n",
    "plt.xlabel('Product Category')\n",
    "plt.ylabel('Sales')\n",
    "\n",
    "# Display the chart\n",
    "plt.show()"
   ],
   "execution_count":29,
   "outputs":[
    {
     "data":{
      "image\/png":"[encoded data removed]"
     },
     "metadata":{
      "image\/png":{
       
      }
     },
     "output_type":"display_data"
    }
   ],
   "metadata":{
    "datalore":{
     "node_id":"WUHYKH90OERkl3HK4iDQyW",
     "type":"CODE",
     "hide_input_from_viewers":false,
     "hide_output_from_viewers":false,
     "report_properties":{
      "rowId":"ZMiobYZPtVlt1xpkDyEK7J"
     }
    }
   }
  },
  {
   "cell_type":"markdown",
   "source":[
    "## Data Analysis Part\n",
    "\n",
    "Answer 10 below questions to get credit from this course. Write `pandas` code to find answers."
   ],
   "attachments":{
    
   },
   "metadata":{
    "datalore":{
     "node_id":"c24ikB3DsgwwCUsm8IMGxD",
     "type":"MD",
     "hide_input_from_viewers":false,
     "hide_output_from_viewers":false,
     "report_properties":{
      "rowId":"YnSfZvt74U1i1mBs4AyZwC"
     }
    }
   }
  },
  {
   "cell_type":"code",
   "source":[
    "# TODO 01 - how many columns, rows in this dataset\n",
    "import pandas as pd\n",
    "num_rows = df.shape[0]\n",
    "num_columns = df.shape[1]\n",
    "\n",
    "print(\"Number of rows:\", num_rows)\n",
    "print(\"Number of columns:\", num_columns)"
   ],
   "execution_count":30,
   "outputs":[
    {
     "name":"stdout",
     "text":[
      "Number of rows: 9994\n",
      "Number of columns: 21\n"
     ],
     "output_type":"stream"
    }
   ],
   "metadata":{
    "datalore":{
     "node_id":"i8SuLQteH9NXz5lNPwa9hG",
     "type":"CODE",
     "hide_input_from_viewers":false,
     "hide_output_from_viewers":false,
     "report_properties":{
      "rowId":"GctInLXQta6Frx0vkZ4CF9"
     }
    }
   }
  },
  {
   "cell_type":"code",
   "source":[
    "# TODO 02 - is there any missing values?, if there is, which colunm? how many nan values?\n",
    "missing_values = df.isna().sum()\n",
    "\n",
    "# Filter columns with missing values\n",
    "columns_with_missing_values = missing_values[missing_values > 0]\n",
    "\n",
    "print(\"Columns with missing values:\")\n",
    "print(columns_with_missing_values)\n",
    "\n",
    "# Total number of missing values\n",
    "total_missing_values = columns_with_missing_values.sum()\n",
    "print(\"Total number of missing values:\", total_missing_values)"
   ],
   "execution_count":32,
   "outputs":[
    {
     "name":"stdout",
     "text":[
      "Columns with missing values:\n",
      "Postal Code    11\n",
      "dtype: int64\n",
      "Total number of missing values: 11\n"
     ],
     "output_type":"stream"
    }
   ],
   "metadata":{
    "datalore":{
     "node_id":"T0zGkodMQrsio4gIO8FDZJ",
     "type":"CODE",
     "hide_input_from_viewers":false,
     "hide_output_from_viewers":false,
     "report_properties":{
      "rowId":"0hXtgld3vtmtp48Tea2DoX"
     }
    }
   }
  },
  {
   "cell_type":"code",
   "source":[
    "# TODO 03 - your friend ask for `California` data, filter it and export csv for him\n",
    "\n",
    "# Filter data for California\n",
    "california_data = df[df['State'] == 'California']\n",
    "\n",
    "# Export filtered data to a CSV file\n",
    "california_data.to_csv('california_data.csv', index=False)\n",
    "\n",
    "print(\"California data exported to 'california_data.csv'\")"
   ],
   "execution_count":33,
   "outputs":[
    {
     "name":"stdout",
     "text":[
      "California data exported to 'california_data.csv'\n"
     ],
     "output_type":"stream"
    }
   ],
   "metadata":{
    "datalore":{
     "node_id":"lNH1WeYqU6XV1RN1Y6U9gy",
     "type":"CODE",
     "hide_input_from_viewers":false,
     "hide_output_from_viewers":false,
     "report_properties":{
      "rowId":"gIDocRTOU9E4pFKAU1DlFr"
     }
    }
   }
  },
  {
   "cell_type":"code",
   "source":[
    "# TODO 04 - your friend ask for all order data in `California` and `Texas` in 2017 (look at Order Date), send him csv file\n",
    "\n",
    "# Filter data for California and Texas in 2017\n",
    "filtered_data = df[(df['State'].isin(['California', 'Texas'])) & (df['Order Date'].dt.year == 2017)]\n",
    "\n",
    "# Export filtered data to a CSV file\n",
    "filtered_data.to_csv('filtered_data.csv', index=False)\n",
    "\n",
    "print(\"Filtered data exported to 'filtered_data.csv'\")"
   ],
   "execution_count":34,
   "outputs":[
    {
     "name":"stdout",
     "text":[
      "Filtered data exported to 'filtered_data.csv'\n"
     ],
     "output_type":"stream"
    }
   ],
   "metadata":{
    "datalore":{
     "node_id":"9DrcxuBebqv6yeMf3XSjIR",
     "type":"CODE",
     "hide_input_from_viewers":false,
     "hide_output_from_viewers":false,
     "report_properties":{
      "rowId":"MPjdafZMaW7F925SEahxJR"
     }
    }
   }
  },
  {
   "cell_type":"code",
   "source":[
    "# TODO 05 - how much total sales, average sales, and standard deviation of sales your company make in 2017\n",
    "\n",
    "# Filter data for 2017\n",
    "sales_data_2017 = df[df['Order Date'].dt.year == 2017]\n",
    "\n",
    "# Calculate total sales\n",
    "total_sales = sales_data_2017['Sales'].sum()\n",
    "\n",
    "# Calculate average sales\n",
    "average_sales = sales_data_2017['Sales'].mean()\n",
    "\n",
    "# Calculate standard deviation of sales\n",
    "std_sales = sales_data_2017['Sales'].std()\n",
    "\n",
    "print(\"Total Sales in 2017:\", total_sales)\n",
    "print(\"Average Sales in 2017:\", average_sales)\n",
    "print(\"Standard Deviation of Sales in 2017:\", std_sales)"
   ],
   "execution_count":36,
   "outputs":[
    {
     "name":"stdout",
     "text":[
      "Total Sales in 2017: 484247.4981\n",
      "Average Sales in 2017: 242.97415860511794\n",
      "Standard Deviation of Sales in 2017: 754.0533572593683\n"
     ],
     "output_type":"stream"
    }
   ],
   "metadata":{
    "datalore":{
     "node_id":"nk19KgJrIFe2uBWK8HsZmm",
     "type":"CODE",
     "hide_input_from_viewers":false,
     "hide_output_from_viewers":false,
     "report_properties":{
      "rowId":"WOYTBibwQ0rxu3Ry9hqP6O"
     }
    }
   }
  },
  {
   "cell_type":"code",
   "source":[
    "# TODO 06 - which Segment has the highest profit in 2018\n",
    "\n",
    "# Filter data for 2018\n",
    "profit_data_2018 = df[df['Order Date'].dt.year == 2018]\n",
    "\n",
    "# Calculate the total profit for each segment in 2018\n",
    "segment_profit = profit_data_2018.groupby('Segment')['Profit'].sum()\n",
    "\n",
    "# Find the segment with the highest profit in 2018\n",
    "highest_profit_segment = segment_profit.idxmax()\n",
    "\n",
    "print(\"Segment with the highest profit in 2018:\", highest_profit_segment)\n",
    "\n",
    "# Create a bar chart using pandas\n",
    "segment_profit.plot.bar()\n",
    "\n",
    "# Set the chart title and axis labels\n",
    "plt.title('Profit by Segment in 2018')\n",
    "plt.xlabel('Segment')\n",
    "plt.ylabel('Profit')\n",
    "\n",
    "# Display the chart\n",
    "plt.show()"
   ],
   "execution_count":41,
   "outputs":[
    {
     "name":"stdout",
     "text":[
      "Segment with the highest profit in 2018: Consumer\n"
     ],
     "output_type":"stream"
    },
    {
     "data":{
      "image\/png":"[encoded data removed]"
     },
     "metadata":{
      "image\/png":{
       
      }
     },
     "output_type":"display_data"
    }
   ],
   "metadata":{
    "datalore":{
     "node_id":"VNCS9kxIhCWNGcZk2cB5ok",
     "type":"CODE",
     "hide_input_from_viewers":false,
     "hide_output_from_viewers":false,
     "report_properties":{
      "rowId":"yRE1CiRZ09tlpp8aYfsXOI"
     }
    }
   }
  },
  {
   "cell_type":"code",
   "source":[
    "# TODO 07 - which top 5 States have the least total sales between 15 April 2019 - 31 December 2019\n",
    "\n",
    "# Filter data for the specified date range\n",
    "start_date = '2019-04-15'\n",
    "end_date = '2019-12-31'\n",
    "date_range_sales = df[(df['Order Date'] >= start_date) & (df['Order Date'] <= end_date)]\n",
    "\n",
    "# Calculate the total sales for each state\n",
    "state_sales = date_range_sales.groupby('State')['Sales'].sum()\n",
    "\n",
    "# Sort the states by total sales in ascending order\n",
    "sorted_states = state_sales.sort_values()\n",
    "\n",
    "# Retrieve the top 5 states with the least total sales\n",
    "top_5_states_least_sales = sorted_states.head(5)\n",
    "\n",
    "print(\"Top 5 States with the Least Total Sales (between April 15, 2019 and December 31, 2019):\")\n",
    "print(top_5_states_least_sales)"
   ],
   "execution_count":42,
   "outputs":[
    {
     "name":"stdout",
     "text":[
      "Top 5 States with the Least Total Sales (between April 15, 2019 and December 31, 2019):\n",
      "State\n",
      "New Hampshire            49.05\n",
      "New Mexico               64.08\n",
      "District of Columbia    117.07\n",
      "Louisiana               249.80\n",
      "South Carolina          502.48\n",
      "Name: Sales, dtype: float64\n"
     ],
     "output_type":"stream"
    }
   ],
   "metadata":{
    "datalore":{
     "node_id":"dKjJnvHNQSWFI0A4rQieqh",
     "type":"CODE",
     "hide_input_from_viewers":false,
     "hide_output_from_viewers":false,
     "report_properties":{
      "rowId":"ITY7VfAyNCWG2XZtKkLxmc"
     }
    }
   }
  },
  {
   "cell_type":"code",
   "source":[
    "# TODO 08 - what is the proportion of total sales (%) in West + Central in 2019 e.g. 25% \n",
    "\n",
    "# Filter data for 2019\n",
    "sales_data_2019 = df[df['Order Date'].dt.year == 2019]\n",
    "\n",
    "# Filter data for West and Central regions in 2019\n",
    "west_central_sales = sales_data_2019[sales_data_2019['Region'].isin(['West', 'Central'])]\n",
    "\n",
    "# Calculate the total sales for West and Central regions in 2019\n",
    "total_sales_wc = west_central_sales['Sales'].sum()\n",
    "\n",
    "# Calculate the total sales for all regions in 2019\n",
    "total_sales_2019 = sales_data_2019['Sales'].sum()\n",
    "\n",
    "# Calculate the proportion of total sales in West and Central as a percentage\n",
    "proportion_wc_percentage = (total_sales_wc \/ total_sales_2019) * 100\n",
    "\n",
    "print(\"Proportion of Total Sales in West + Central in 2019: {:.2f}%\".format(proportion_wc_percentage))"
   ],
   "execution_count":43,
   "outputs":[
    {
     "name":"stdout",
     "text":[
      "Proportion of Total Sales in West + Central in 2019: 54.97%\n"
     ],
     "output_type":"stream"
    }
   ],
   "metadata":{
    "datalore":{
     "node_id":"vJNAiGOVUMv9Urestu7LmB",
     "type":"CODE",
     "hide_input_from_viewers":false,
     "hide_output_from_viewers":false,
     "report_properties":{
      "rowId":"BovXIlK2iHUHwXrAdiU4h0"
     }
    }
   }
  },
  {
   "cell_type":"code",
   "source":[
    "# TODO 09 - find top 10 popular products in terms of number of orders vs. total sales during 2019-2020\n",
    "\n",
    "# Filter data for the specified date range\n",
    "start_date = '2019-01-01'\n",
    "end_date = '2020-12-31'\n",
    "date_range_orders = df[(df['Order Date'] >= start_date) & (df['Order Date'] <= end_date)]\n",
    "\n",
    "# Calculate the number of orders for each product\n",
    "product_orders = date_range_orders['Product Name'].value_counts()\n",
    "\n",
    "# Calculate the total sales for each product\n",
    "product_sales = date_range_orders.groupby('Product Name')['Sales'].sum()\n",
    "\n",
    "# Combine the number of orders and total sales into a single DataFrame\n",
    "product_data = pd.DataFrame({'Number of Orders': product_orders, 'Total Sales': product_sales})\n",
    "\n",
    "# Sort the products by the number of orders in descending order\n",
    "top_10_products = product_data.sort_values('Number of Orders', ascending=False).head(10)\n",
    "\n",
    "print(\"Top 10 Popular Products (2019-2020) based on Number of Orders:\")\n",
    "print(top_10_products[['Number of Orders', 'Total Sales']])"
   ],
   "execution_count":44,
   "outputs":[
    {
     "name":"stdout",
     "text":[
      "Top 10 Popular Products (2019-2020) based on Number of Orders:\n",
      "                                                 Number of Orders  Total Sales\n",
      "Easy-staple paper                                              27     1481.728\n",
      "Staples                                                        24      462.068\n",
      "Staple envelope                                                22      644.936\n",
      "Staples in misc. colors                                        13      357.164\n",
      "Staple remover                                                 12      204.512\n",
      "Storex Dura Pro Binders                                        12      176.418\n",
      "Chromcraft Round Conference Tables                             12     7965.053\n",
      "Global Wood Trimmed Manager's Task Chair, Khaki                11     2793.086\n",
      "Avery Non-Stick Binders                                        11      122.128\n",
      "Staple-based wall hangings                                     10      233.392\n"
     ],
     "output_type":"stream"
    }
   ],
   "metadata":{
    "datalore":{
     "node_id":"r9ELTeitCvrscwpa5FdbZx",
     "type":"CODE",
     "hide_input_from_viewers":false,
     "hide_output_from_viewers":false,
     "report_properties":{
      "rowId":"1uLWiMOaj4DXMng0x6MoWw"
     }
    }
   }
  },
  {
   "cell_type":"code",
   "source":[
    "# TODO 10 - plot at least 2 plots, any plot you think interesting :)\n",
    "\n",
    "# Monthly Sales Trend in 2020\n",
    "\n",
    "import pandas as pd\n",
    "import matplotlib.pyplot as plt\n",
    "# Convert 'Order Date' column to datetime if it's not already\n",
    "df['Order Date'] = pd.to_datetime(df['Order Date'])\n",
    "\n",
    "# Filter data for the year 2020\n",
    "sales_data_2020 = df[df['Order Date'].dt.year == 2020]\n",
    "\n",
    "# Group by month and calculate total sales\n",
    "monthly_sales = sales_data_2020.groupby(sales_data_2020['Order Date'].dt.month)['Sales'].sum()\n",
    "\n",
    "# Create a line plot for the monthly sales trend in 2020\n",
    "monthly_sales.plot(kind='line', marker='o')\n",
    "\n",
    "# Set the chart title and axis labels\n",
    "plt.title('Monthly Sales Trend in 2020')\n",
    "plt.xlabel('Month')\n",
    "plt.ylabel('Sales')\n",
    "\n",
    "# Display the chart\n",
    "plt.show()\n",
    "\n",
    "# Profit Distribution by Product Category\n",
    "import pandas as pd\n",
    "import matplotlib.pyplot as plt\n",
    "\n",
    "# Group by product category and calculate the total profit\n",
    "category_profit = df.groupby('Category')['Profit'].sum()\n",
    "\n",
    "# Create a bar plot for the profit distribution by product category\n",
    "category_profit.plot(kind='bar')\n",
    "\n",
    "# Set the chart title and axis labels\n",
    "plt.title('Profit Distribution by Product Category')\n",
    "plt.xlabel('Product Category')\n",
    "plt.ylabel('Total Profit')\n",
    "\n",
    "# Display the chart\n",
    "plt.show()\n",
    "\n",
    "\n",
    "# Sales Performance by Ship Mode\n",
    "import pandas as pd\n",
    "import matplotlib.pyplot as plt\n",
    "\n",
    "# Group by ship mode and calculate the average sales\n",
    "shipmode_sales = df.groupby('Ship Mode')['Sales'].mean()\n",
    "\n",
    "# Create a pie chart for the sales performance by ship mode\n",
    "shipmode_sales.plot(kind='pie', autopct='%1.1f%%', startangle=90)\n",
    "\n",
    "# Set the chart title and axis labels\n",
    "plt.title('Sales Performance by Ship Mode')\n",
    "plt.ylabel('')\n",
    "\n",
    "# Display the chart\n",
    "plt.show()\n"
   ],
   "execution_count":49,
   "outputs":[
    {
     "data":{
      "image\/png":"[encoded data removed]"
     },
     "metadata":{
      "image\/png":{
       
      }
     },
     "output_type":"display_data"
    },
    {
     "data":{
      "image\/png":"[encoded data removed]"
     },
     "metadata":{
      "image\/png":{
       
      }
     },
     "output_type":"display_data"
    },
    {
     "data":{
      "image\/png":"[encoded data removed]"
     },
     "metadata":{
      "image\/png":{
       
      }
     },
     "output_type":"display_data"
    }
   ],
   "metadata":{
    "datalore":{
     "node_id":"GOQzb65O1ebZ0ls7o2Vj75",
     "type":"CODE",
     "hide_input_from_viewers":false,
     "hide_output_from_viewers":false,
     "report_properties":{
      "rowId":"wq2SkCeL9sPczU1ufqy72q"
     }
    }
   }
  },
  {
   "cell_type":"code",
   "source":[
    "# TODO Bonus - use np.where() to create new column in dataframe to help you answer your own questions\n",
    "\n",
    "import pandas as pd\n",
    "import numpy as np\n",
    "\n",
    "# Calculate the total sales for each row\n",
    "df['Total Sales'] = df['Quantity'] * df['Sales']\n",
    "\n",
    "# Create a new column 'Profitable' based on the condition\n",
    "df['Profitable'] = np.where(df['Profit'] > 0, 'Yes', 'No')\n",
    "\n",
    "# Display the updated DataFrame\n",
    "print(df)\n",
    "\n",
    "# Calculate the count of each combination of Sub-Category and Profitable\n",
    "subcategory_profitable_counts = df.groupby(['Sub-Category', 'Profitable']).size().unstack()\n",
    "\n",
    "# Create a stacked bar chart to visualize the counts by Sub-Category, partitioned by Profitable\n",
    "subcategory_profitable_counts.plot(kind='bar', stacked=True)\n",
    "\n",
    "# Set the chart title and axis labels\n",
    "plt.title('Counts by Sub-Category, Partitioned by Profitable')\n",
    "plt.xlabel('Sub-Category')\n",
    "plt.ylabel('Count')\n",
    "\n",
    "# Display the chart\n",
    "plt.show()"
   ],
   "execution_count":52,
   "outputs":[
    {
     "name":"stdout",
     "text":[
      "      Row ID        Order ID Order Date  Ship Date       Ship Mode  \\\n",
      "0          1  CA-2019-152156 2019-11-08 2019-11-11    Second Class   \n",
      "1          2  CA-2019-152156 2019-11-08 2019-11-11    Second Class   \n",
      "2          3  CA-2019-138688 2019-06-12 2019-06-16    Second Class   \n",
      "3          4  US-2018-108966 2018-10-11 2018-10-18  Standard Class   \n",
      "4          5  US-2018-108966 2018-10-11 2018-10-18  Standard Class   \n",
      "...      ...             ...        ...        ...             ...   \n",
      "9989    9990  CA-2017-110422 2017-01-21 2017-01-23    Second Class   \n",
      "9990    9991  CA-2020-121258 2020-02-26 2020-03-03  Standard Class   \n",
      "9991    9992  CA-2020-121258 2020-02-26 2020-03-03  Standard Class   \n",
      "9992    9993  CA-2020-121258 2020-02-26 2020-03-03  Standard Class   \n",
      "9993    9994  CA-2020-119914 2020-05-04 2020-05-09    Second Class   \n",
      "\n",
      "     Customer ID     Customer Name    Segment Country\/Region             City  \\\n",
      "0       CG-12520       Claire Gute   Consumer  United States        Henderson   \n",
      "1       CG-12520       Claire Gute   Consumer  United States        Henderson   \n",
      "2       DV-13045   Darrin Van Huff  Corporate  United States      Los Angeles   \n",
      "3       SO-20335    Sean O'Donnell   Consumer  United States  Fort Lauderdale   \n",
      "4       SO-20335    Sean O'Donnell   Consumer  United States  Fort Lauderdale   \n",
      "...          ...               ...        ...            ...              ...   \n",
      "9989    TB-21400  Tom Boeckenhauer   Consumer  United States            Miami   \n",
      "9990    DB-13060       Dave Brooks   Consumer  United States       Costa Mesa   \n",
      "9991    DB-13060       Dave Brooks   Consumer  United States       Costa Mesa   \n",
      "9992    DB-13060       Dave Brooks   Consumer  United States       Costa Mesa   \n",
      "9993    CC-12220      Chris Cortes   Consumer  United States      Westminster   \n",
      "\n",
      "      ...       Product ID         Category Sub-Category  \\\n",
      "0     ...  FUR-BO-10001798        Furniture    Bookcases   \n",
      "1     ...  FUR-CH-10000454        Furniture       Chairs   \n",
      "2     ...  OFF-LA-10000240  Office Supplies       Labels   \n",
      "3     ...  FUR-TA-10000577        Furniture       Tables   \n",
      "4     ...  OFF-ST-10000760  Office Supplies      Storage   \n",
      "...   ...              ...              ...          ...   \n",
      "9989  ...  FUR-FU-10001889        Furniture  Furnishings   \n",
      "9990  ...  FUR-FU-10000747        Furniture  Furnishings   \n",
      "9991  ...  TEC-PH-10003645       Technology       Phones   \n",
      "9992  ...  OFF-PA-10004041  Office Supplies        Paper   \n",
      "9993  ...  OFF-AP-10002684  Office Supplies   Appliances   \n",
      "\n",
      "                                           Product Name     Sales Quantity  \\\n",
      "0                     Bush Somerset Collection Bookcase  261.9600        2   \n",
      "1     Hon Deluxe Fabric Upholstered Stacking Chairs,...  731.9400        3   \n",
      "2     Self-Adhesive Address Labels for Typewriters b...   14.6200        2   \n",
      "3         Bretford CR4500 Series Slim Rectangular Table  957.5775        5   \n",
      "4                        Eldon Fold 'N Roll Cart System   22.3680        2   \n",
      "...                                                 ...       ...      ...   \n",
      "9989                             Ultra Door Pull Handle   25.2480        3   \n",
      "9990  Tenex B1-RE Series Chair Mats for Low Pile Car...   91.9600        2   \n",
      "9991                              Aastra 57i VoIP phone  258.5760        2   \n",
      "9992  It's Hot Message Books with Stickers, 2 3\/4\" x 5\"   29.6000        4   \n",
      "9993  Acco 7-Outlet Masterpiece Power Center, Wihtou...  243.1600        2   \n",
      "\n",
      "     Discount    Profit  Total Sales  Profitable  \n",
      "0        0.00   41.9136     523.9200         Yes  \n",
      "1        0.00  219.5820    2195.8200         Yes  \n",
      "2        0.00    6.8714      29.2400         Yes  \n",
      "3        0.45 -383.0310    4787.8875          No  \n",
      "4        0.20    2.5164      44.7360         Yes  \n",
      "...       ...       ...          ...         ...  \n",
      "9989     0.20    4.1028      75.7440         Yes  \n",
      "9990     0.00   15.6332     183.9200         Yes  \n",
      "9991     0.20   19.3932     517.1520         Yes  \n",
      "9992     0.00   13.3200     118.4000         Yes  \n",
      "9993     0.00   72.9480     486.3200         Yes  \n",
      "\n",
      "[9994 rows x 23 columns]\n"
     ],
     "output_type":"stream"
    },
    {
     "data":{
      "image\/png":"[encoded data removed]"
     },
     "metadata":{
      "image\/png":{
       
      }
     },
     "output_type":"display_data"
    }
   ],
   "metadata":{
    "datalore":{
     "node_id":"U30TzEBXhYWS0UDCN0XeY4",
     "type":"CODE",
     "hide_input_from_viewers":false,
     "hide_output_from_viewers":false,
     "report_properties":{
      "rowId":"eb44JsA17Cptz4CcFERiCB"
     }
    }
   }
  }
 ],
 "metadata":{
  "kernelspec":{
   "display_name":"Python",
   "language":"python",
   "name":"python"
  },
  "datalore":{
   "computation_mode":"JUPYTER",
   "package_manager":"pip",
   "base_environment":"default",
   "packages":[
    
   ],
   "report_row_ids":[
    "i8HyGdI4q2fGH442iTpCqE",
    "35j7AoKepPNL3NHFoDgPTe",
    "yyEUOUI42p76ipMKDl33Hx",
    "TUDMakT9uKan7nUTWfJrtX",
    "v1FeaqIwCHPp48rsRcejHb",
    "yI2NEPvBLjFT0YixhYCN5T",
    "Fu7RnrWl2YP0ObXRqm3Nlv",
    "hQiptI4EwJditvhSbDKWtR",
    "boPqYWtCWMZx6LhuG7AbZl",
    "O2K0v43Pr8JTOKN5mLjCGD",
    "ZMiobYZPtVlt1xpkDyEK7J",
    "YnSfZvt74U1i1mBs4AyZwC",
    "GctInLXQta6Frx0vkZ4CF9",
    "0hXtgld3vtmtp48Tea2DoX",
    "gIDocRTOU9E4pFKAU1DlFr",
    "MPjdafZMaW7F925SEahxJR",
    "WOYTBibwQ0rxu3Ry9hqP6O",
    "yRE1CiRZ09tlpp8aYfsXOI",
    "ITY7VfAyNCWG2XZtKkLxmc",
    "BovXIlK2iHUHwXrAdiU4h0",
    "1uLWiMOaj4DXMng0x6MoWw",
    "wq2SkCeL9sPczU1ufqy72q",
    "eb44JsA17Cptz4CcFERiCB"
   ],
   "version":3
  }
 },
 "nbformat":4,
 "nbformat_minor":4
}